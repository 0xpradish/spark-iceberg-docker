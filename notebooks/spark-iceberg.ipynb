{
 "cells": [
  {
   "cell_type": "code",
   "execution_count": 1,
   "id": "7cae1e2f-8ea7-4556-a343-bbaf8ff56ab4",
   "metadata": {},
   "outputs": [],
   "source": [
    "from pyspark.sql import SparkSession\n",
    "from pyspark.sql.types import *\n",
    "from pyspark.sql.functions import *\n",
    "from datetime import datetime"
   ]
  },
  {
   "cell_type": "code",
   "execution_count": 2,
   "id": "6ccb56da-65be-4fc1-b5e1-93d80a1d4741",
   "metadata": {},
   "outputs": [
    {
     "name": "stderr",
     "output_type": "stream",
     "text": [
      "25/08/04 07:01:46 WARN SparkSession: Using an existing Spark session; only runtime SQL configurations will take effect.\n"
     ]
    }
   ],
   "source": [
    "spark = SparkSession.builder \\\n",
    "    .appName(\"IcebergTest\") \\\n",
    "    .config(\"spark.sql.catalog.rest\", \"org.apache.iceberg.spark.SparkCatalog\") \\\n",
    "    .config(\"spark.sql.catalog.rest.catalog-impl\", \"org.apache.iceberg.rest.RESTCatalog\") \\\n",
    "    .config(\"spark.sql.catalog.rest.uri\", \"http://iceberg-rest:8181\") \\\n",
    "    .config(\"spark.sql.catalog.rest.io-impl\", \"org.apache.iceberg.aws.s3.S3FileIO\") \\\n",
    "    .config(\"spark.sql.catalog.rest.s3.endpoint\", \"http://minio:9000\") \\\n",
    "    .config(\"spark.sql.catalog.rest.warehouse\", \"s3://warehouse/\") \\\n",
    "    .config(\"spark.sql.extensions\", \"org.apache.iceberg.spark.extensions.IcebergSparkSessionExtensions\") \\\n",
    "    .config(\"spark.hadoop.fs.s3a.access.key\", \"admin\") \\\n",
    "    .config(\"spark.hadoop.fs.s3a.secret.key\", \"password\") \\\n",
    "    .config(\"spark.hadoop.fs.s3a.endpoint\", \"http://minio:9000\") \\\n",
    "    .config(\"spark.hadoop.fs.s3a.path.style.access\", \"true\") \\\n",
    "    .config(\"spark.hadoop.fs.s3a.connection.ssl.enabled\", \"false\") \\\n",
    "    .getOrCreate()"
   ]
  },
  {
   "cell_type": "code",
   "execution_count": 3,
   "id": "0ee52fb3-d4b9-400e-9aef-6a270dd92445",
   "metadata": {
    "tags": []
   },
   "outputs": [
    {
     "name": "stdout",
     "output_type": "stream",
     "text": [
      "root\n",
      " |-- Product: string (nullable = true)\n",
      " |-- ID: integer (nullable = true)\n",
      " |-- Date: date (nullable = true)\n",
      " |-- Timestamp: timestamp (nullable = true)\n",
      " |-- Price: float (nullable = true)\n",
      "\n"
     ]
    },
    {
     "name": "stderr",
     "output_type": "stream",
     "text": [
      "                                                                                "
     ]
    },
    {
     "name": "stdout",
     "output_type": "stream",
     "text": [
      "+---------+----+----------+-------------------+-----+\n",
      "|  Product|  ID|      Date|          Timestamp|Price|\n",
      "+---------+----+----------+-------------------+-----+\n",
      "|Product A|1001|2023-07-20|2023-07-20 10:15:30|29.99|\n",
      "|Product B|1002|2023-07-19|2023-07-19 14:20:45|49.99|\n",
      "|Product C|1003|2023-07-18|2023-07-18 09:30:15|39.99|\n",
      "|Product D|1004|2023-07-17|2023-07-17 16:45:00|19.99|\n",
      "+---------+----+----------+-------------------+-----+\n",
      "\n"
     ]
    }
   ],
   "source": [
    "data = [\n",
    "    [\"Product A\", 1001, datetime.strptime(\"2023-07-20\", \"%Y-%m-%d\"), datetime.strptime(\"2023-07-20 10:15:30\", \"%Y-%m-%d %H:%M:%S\"), 29.99],\n",
    "    [\"Product B\", 1002, datetime.strptime(\"2023-07-19\", \"%Y-%m-%d\"), datetime.strptime(\"2023-07-19 14:20:45\", \"%Y-%m-%d %H:%M:%S\"), 49.99],\n",
    "    [\"Product C\", 1003, datetime.strptime(\"2023-07-18\", \"%Y-%m-%d\"), datetime.strptime(\"2023-07-18 09:30:15\", \"%Y-%m-%d %H:%M:%S\"), 39.99],\n",
    "    [\"Product D\", 1004, datetime.strptime(\"2023-07-17\", \"%Y-%m-%d\"), datetime.strptime(\"2023-07-17 16:45:00\", \"%Y-%m-%d %H:%M:%S\"), 19.99]\n",
    "]\n",
    "\n",
    "# Define schema\n",
    "schema = StructType([\n",
    "    StructField(\"Product\", StringType(), True),\n",
    "    StructField(\"ID\", IntegerType(), True),\n",
    "    StructField(\"Date\", DateType(), True),\n",
    "    StructField(\"Timestamp\", TimestampType(), True),\n",
    "    StructField(\"Price\", FloatType(), True)\n",
    "])\n",
    "\n",
    "df = spark.createDataFrame(data, schema)\n",
    "\n",
    "df.printSchema()\n",
    "\n",
    "df.show()"
   ]
  },
  {
   "cell_type": "code",
   "execution_count": 4,
   "id": "392efcb0-3071-4ab1-99cc-d4630397a914",
   "metadata": {
    "tags": []
   },
   "outputs": [
    {
     "name": "stdout",
     "output_type": "stream",
     "text": [
      "root\n",
      " |-- OrderID: string (nullable = true)\n",
      " |-- OrderItemID: integer (nullable = true)\n",
      " |-- ProductID: string (nullable = true)\n",
      " |-- SellerID: string (nullable = true)\n",
      " |-- ShippingLimitDate: timestamp (nullable = true)\n",
      " |-- Price: double (nullable = true)\n",
      " |-- FreightValue: double (nullable = true)\n",
      "\n",
      "+--------------------+-----------+--------------------+--------------------+-------------------+-----+------------+\n",
      "|             OrderID|OrderItemID|           ProductID|            SellerID|  ShippingLimitDate|Price|FreightValue|\n",
      "+--------------------+-----------+--------------------+--------------------+-------------------+-----+------------+\n",
      "|00010242fe8c5a6d1...|          1|4244733e06e7ecb49...|48436dade18ac8b2b...|2017-09-19 09:45:35| 58.9|       13.29|\n",
      "|00018f77f2f0320c5...|          1|e5f2d52b802189ee6...|dd7ddc04e1b6c2c61...|2017-05-03 11:05:13|239.9|       19.93|\n",
      "|000229ec398224ef6...|          1|c777355d18b72b67a...|5b51032eddd242adc...|2018-01-18 14:48:30|199.0|       17.87|\n",
      "|00024acbcdf0a6daa...|          1|7634da152a4610f15...|9d7a1d34a50524090...|2018-08-15 10:10:18|12.99|       12.79|\n",
      "|00042b26cf59d7ce6...|          1|ac6c3623068f30de0...|df560393f3a51e745...|2017-02-13 13:57:51|199.9|       18.14|\n",
      "+--------------------+-----------+--------------------+--------------------+-------------------+-----+------------+\n",
      "only showing top 5 rows\n",
      "\n"
     ]
    },
    {
     "name": "stderr",
     "output_type": "stream",
     "text": [
      "25/08/04 07:03:59 WARN CSVHeaderChecker: CSV header does not conform to the schema.\n",
      " Header: order_id, order_item_id, product_id, seller_id, shipping_limit_date, price, freight_value\n",
      " Schema: OrderID, OrderItemID, ProductID, SellerID, ShippingLimitDate, Price, FreightValue\n",
      "Expected: OrderID but found: order_id\n",
      "CSV file: file:///home/iceberg/data/order_items_dataset.csv\n"
     ]
    }
   ],
   "source": [
    "# First read example should not infer schema, ignore header row, provide explicit column name and datatype\n",
    "\n",
    "# Define schema\n",
    "schema = StructType([\n",
    "    StructField(\"OrderID\", StringType(), True),\n",
    "    StructField(\"OrderItemID\", IntegerType(), True),\n",
    "    StructField(\"ProductID\", StringType(), True),\n",
    "    StructField(\"SellerID\", StringType(), True),\n",
    "    StructField(\"ShippingLimitDate\", TimestampType(), True),\n",
    "    StructField(\"Price\", DoubleType(), True),\n",
    "    StructField(\"FreightValue\", DoubleType(), True)\n",
    "])\n",
    "path = '/home/iceberg/data/order_items_dataset.csv'\n",
    "\n",
    "df = spark.read.format('csv').option('header', 'true').option('inferSchema', 'false').schema(schema).load(hdfs_path)\n",
    "\n",
    "df.printSchema()\n",
    "\n",
    "df.show(5)"
   ]
  },
  {
   "cell_type": "code",
   "execution_count": 5,
   "id": "87d5fffa-a18f-45fd-b0ea-22b7b30b66a3",
   "metadata": {
    "tags": []
   },
   "outputs": [
    {
     "name": "stderr",
     "output_type": "stream",
     "text": [
      "                                                                                "
     ]
    },
    {
     "name": "stdout",
     "output_type": "stream",
     "text": [
      "root\n",
      " |-- order_id: string (nullable = true)\n",
      " |-- order_item_id: integer (nullable = true)\n",
      " |-- product_id: string (nullable = true)\n",
      " |-- seller_id: string (nullable = true)\n",
      " |-- shipping_limit_date: timestamp (nullable = true)\n",
      " |-- price: double (nullable = true)\n",
      " |-- freight_value: double (nullable = true)\n",
      "\n",
      "+--------------------+-------------+--------------------+--------------------+-------------------+------+-------------+\n",
      "|            order_id|order_item_id|          product_id|           seller_id|shipping_limit_date| price|freight_value|\n",
      "+--------------------+-------------+--------------------+--------------------+-------------------+------+-------------+\n",
      "|00010242fe8c5a6d1...|            1|4244733e06e7ecb49...|48436dade18ac8b2b...|2017-09-19 09:45:35|  58.9|        13.29|\n",
      "|00018f77f2f0320c5...|            1|e5f2d52b802189ee6...|dd7ddc04e1b6c2c61...|2017-05-03 11:05:13| 239.9|        19.93|\n",
      "|000229ec398224ef6...|            1|c777355d18b72b67a...|5b51032eddd242adc...|2018-01-18 14:48:30| 199.0|        17.87|\n",
      "|00024acbcdf0a6daa...|            1|7634da152a4610f15...|9d7a1d34a50524090...|2018-08-15 10:10:18| 12.99|        12.79|\n",
      "|00042b26cf59d7ce6...|            1|ac6c3623068f30de0...|df560393f3a51e745...|2017-02-13 13:57:51| 199.9|        18.14|\n",
      "|00048cc3ae777c65d...|            1|ef92defde845ab845...|6426d21aca402a131...|2017-05-23 03:55:27|  21.9|        12.69|\n",
      "|00054e8431b9d7675...|            1|8d4f2bb7e93e6710a...|7040e82f899a04d1b...|2017-12-14 12:10:31|  19.9|        11.85|\n",
      "|000576fe39319847c...|            1|557d850972a7d6f79...|5996cddab893a4652...|2018-07-10 12:30:45| 810.0|        70.75|\n",
      "|0005a1a1728c9d785...|            1|310ae3c140ff94b03...|a416b6a846a117243...|2018-03-26 18:31:29|145.95|        11.65|\n",
      "|0005f50442cb953dc...|            1|4535b0e1091c278df...|ba143b05f0110f0dc...|2018-07-06 14:10:56| 53.99|         11.4|\n",
      "|00061f2a7bc09da83...|            1|d63c1011f49d98b97...|cc419e0650a3c5ba7...|2018-03-29 22:28:09| 59.99|         8.88|\n",
      "|00063b381e2406b52...|            1|f177554ea93259a5b...|8602a61d680a10a82...|2018-07-31 17:30:39|  45.0|        12.98|\n",
      "|0006ec9db01a64e59...|            1|99a4788cb24856965...|4a3ca9315b744ce9f...|2018-07-26 17:24:20|  74.0|        23.32|\n",
      "|0008288aa423d2a3f...|            1|368c6c730842d7801...|1f50f920176fa81da...|2018-02-21 02:55:52|  49.9|        13.37|\n",
      "|0008288aa423d2a3f...|            2|368c6c730842d7801...|1f50f920176fa81da...|2018-02-21 02:55:52|  49.9|        13.37|\n",
      "|0009792311464db53...|            1|8cab8abac59158715...|530ec6109d11eaaf8...|2018-08-17 12:15:10|  99.9|        27.65|\n",
      "|0009c9a17f916a706...|            1|3f27ac8e699df3d30...|fcb5ace8bcc92f757...|2018-05-02 09:31:53| 639.0|        11.34|\n",
      "|000aed2e25dbad2f9...|            1|4fa33915031a8cde0...|fe2032dab1a61af87...|2018-05-16 20:57:03| 144.0|         8.77|\n",
      "|000c3e6612759851c...|            1|b50c950aba0dcead2...|218d46b86c1881d02...|2017-08-21 03:33:13|  99.0|        13.71|\n",
      "|000e562887b1f2006...|            1|5ed9eaf534f6936b5...|8cbac7e12637ed9cf...|2018-02-28 12:08:37|  25.0|        16.11|\n",
      "+--------------------+-------------+--------------------+--------------------+-------------------+------+-------------+\n",
      "only showing top 20 rows\n",
      "\n"
     ]
    }
   ],
   "source": [
    "\n",
    "# Second read example should infer schema, ignore header row\n",
    "\n",
    "path = '/home/iceberg/data/order_items_dataset.csv'\n",
    "\n",
    "\n",
    "df = spark.read.format('csv').option('header','true').option('inferSchema','true').load(hdfs_path)\n",
    "\n",
    "df.printSchema()\n",
    "\n",
    "df.show()"
   ]
  },
  {
   "cell_type": "code",
   "execution_count": 6,
   "id": "89dde41c-bbbb-4935-975e-2f385d1a674a",
   "metadata": {
    "tags": []
   },
   "outputs": [
    {
     "name": "stdout",
     "output_type": "stream",
     "text": [
      "8\n"
     ]
    }
   ],
   "source": [
    "# check default number of partitions\n",
    "print(spark.sparkContext.defaultParallelism)"
   ]
  },
  {
   "cell_type": "code",
   "execution_count": 7,
   "id": "8633585e-7a2b-47e3-a78c-ffab12f2dd0d",
   "metadata": {
    "tags": []
   },
   "outputs": [
    {
     "name": "stdout",
     "output_type": "stream",
     "text": [
      "134217728b\n"
     ]
    }
   ],
   "source": [
    "# check default size of each partition\n",
    "print(spark.conf.get(\"spark.sql.files.maxPartitionBytes\"))"
   ]
  },
  {
   "cell_type": "code",
   "execution_count": 8,
   "id": "85ba13ea-d6d5-48b8-8ff8-52dc7fc74a1a",
   "metadata": {
    "tags": []
   },
   "outputs": [
    {
     "name": "stdout",
     "output_type": "stream",
     "text": [
      "Number of partitions: 4\n",
      "Number of partitions: 5\n"
     ]
    }
   ],
   "source": [
    "print(f'Number of partitions: {df.rdd.getNumPartitions()}')\n",
    "\n",
    "df_new = df.repartition(5)\n",
    "\n",
    "print(f'Number of partitions: {df_new.rdd.getNumPartitions()}')"
   ]
  },
  {
   "cell_type": "code",
   "execution_count": 10,
   "id": "05607654-9844-4805-8c74-6cd8b2845c62",
   "metadata": {
    "tags": []
   },
   "outputs": [
    {
     "name": "stdout",
     "output_type": "stream",
     "text": [
      "+--------------------+\n",
      "|            order_id|\n",
      "+--------------------+\n",
      "|00010242fe8c5a6d1...|\n",
      "|00018f77f2f0320c5...|\n",
      "|000229ec398224ef6...|\n",
      "|00024acbcdf0a6daa...|\n",
      "|00042b26cf59d7ce6...|\n",
      "+--------------------+\n",
      "only showing top 5 rows\n",
      "\n",
      "+--------------------+-------------------+\n",
      "|            order_id|shipping_limit_date|\n",
      "+--------------------+-------------------+\n",
      "|00010242fe8c5a6d1...|2017-09-19 09:45:35|\n",
      "|00018f77f2f0320c5...|2017-05-03 11:05:13|\n",
      "|000229ec398224ef6...|2018-01-18 14:48:30|\n",
      "|00024acbcdf0a6daa...|2018-08-15 10:10:18|\n",
      "|00042b26cf59d7ce6...|2017-02-13 13:57:51|\n",
      "+--------------------+-------------------+\n",
      "only showing top 5 rows\n",
      "\n",
      "+--------------------+-------------------+\n",
      "|            order_id|shipping_limit_date|\n",
      "+--------------------+-------------------+\n",
      "|00010242fe8c5a6d1...|2017-09-19 09:45:35|\n",
      "|00018f77f2f0320c5...|2017-05-03 11:05:13|\n",
      "|000229ec398224ef6...|2018-01-18 14:48:30|\n",
      "|00024acbcdf0a6daa...|2018-08-15 10:10:18|\n",
      "|00042b26cf59d7ce6...|2017-02-13 13:57:51|\n",
      "+--------------------+-------------------+\n",
      "only showing top 5 rows\n",
      "\n",
      "+--------------------+-------------------+\n",
      "|                 oid|         limit_date|\n",
      "+--------------------+-------------------+\n",
      "|00010242fe8c5a6d1...|2017-09-19 09:45:35|\n",
      "|00018f77f2f0320c5...|2017-05-03 11:05:13|\n",
      "|000229ec398224ef6...|2018-01-18 14:48:30|\n",
      "|00024acbcdf0a6daa...|2018-08-15 10:10:18|\n",
      "|00042b26cf59d7ce6...|2017-02-13 13:57:51|\n",
      "+--------------------+-------------------+\n",
      "only showing top 5 rows\n",
      "\n"
     ]
    }
   ],
   "source": [
    "# Select columns in different options\n",
    "\n",
    "from pyspark.sql.functions import *\n",
    "\n",
    "df.select('order_id').show(5)\n",
    "\n",
    "df.select('order_id', 'shipping_limit_date').show(5)\n",
    "\n",
    "df.select(col('order_id'), col('shipping_limit_date')).show(5)\n",
    "\n",
    "df.select(col('order_id').alias('oid'), col('shipping_limit_date').alias('limit_date')).show(5)"
   ]
  },
  {
   "cell_type": "code",
   "execution_count": 11,
   "id": "dcc64cb1-99b1-483e-b4b6-6d206e4dd80d",
   "metadata": {
    "tags": []
   },
   "outputs": [
    {
     "name": "stdout",
     "output_type": "stream",
     "text": [
      "+--------------------+-------------------+----+-----+\n",
      "|            order_id|shipping_limit_date|year|month|\n",
      "+--------------------+-------------------+----+-----+\n",
      "|00010242fe8c5a6d1...|2017-09-19 09:45:35|2017|    9|\n",
      "|00018f77f2f0320c5...|2017-05-03 11:05:13|2017|    5|\n",
      "|000229ec398224ef6...|2018-01-18 14:48:30|2018|    1|\n",
      "|00024acbcdf0a6daa...|2018-08-15 10:10:18|2018|    8|\n",
      "|00042b26cf59d7ce6...|2017-02-13 13:57:51|2017|    2|\n",
      "+--------------------+-------------------+----+-----+\n",
      "only showing top 5 rows\n",
      "\n"
     ]
    }
   ],
   "source": [
    "# Derive new column using withColumn\n",
    "\n",
    "df2 = df.withColumn(\"year\", year(col(\"shipping_limit_date\"))).withColumn(\"month\", month(col(\"shipping_limit_date\")))\n",
    "\n",
    "df2.select(\"order_id\", \"shipping_limit_date\", \"year\", \"month\").show(5)"
   ]
  },
  {
   "cell_type": "code",
   "execution_count": 12,
   "id": "65a30240-aa6d-416a-958c-4efc2d4d27fd",
   "metadata": {
    "tags": []
   },
   "outputs": [
    {
     "name": "stdout",
     "output_type": "stream",
     "text": [
      "+--------------------+-----------------------+\n",
      "|            order_id|shipping_limit_datetime|\n",
      "+--------------------+-----------------------+\n",
      "|00010242fe8c5a6d1...|    2017-09-19 09:45:35|\n",
      "|00018f77f2f0320c5...|    2017-05-03 11:05:13|\n",
      "|000229ec398224ef6...|    2018-01-18 14:48:30|\n",
      "|00024acbcdf0a6daa...|    2018-08-15 10:10:18|\n",
      "|00042b26cf59d7ce6...|    2017-02-13 13:57:51|\n",
      "+--------------------+-----------------------+\n",
      "only showing top 5 rows\n",
      "\n"
     ]
    }
   ],
   "source": [
    "# Rename existing column using withColumnRenamed\n",
    "\n",
    "df3 = df2.withColumnRenamed('shipping_limit_date', 'shipping_limit_datetime')\n",
    "\n",
    "df3.select(\"order_id\", \"shipping_limit_datetime\").show(5)"
   ]
  },
  {
   "cell_type": "code",
   "execution_count": 13,
   "id": "174b1b17-cdd6-43a7-99b3-da22292d5f39",
   "metadata": {
    "tags": []
   },
   "outputs": [
    {
     "name": "stdout",
     "output_type": "stream",
     "text": [
      "+--------------------+-------------+--------------------+--------------------+-----------------------+-----+-------------+----+-----+\n",
      "|            order_id|order_item_id|          product_id|           seller_id|shipping_limit_datetime|price|freight_value|year|month|\n",
      "+--------------------+-------------+--------------------+--------------------+-----------------------+-----+-------------+----+-----+\n",
      "|00010242fe8c5a6d1...|            1|4244733e06e7ecb49...|48436dade18ac8b2b...|    2017-09-19 09:45:35| 58.9|        13.29|2017|    9|\n",
      "+--------------------+-------------+--------------------+--------------------+-----------------------+-----+-------------+----+-----+\n",
      "\n",
      "+--------------------+-------------+--------------------+--------------------+-----------------------+-----+-------------+----+-----+\n",
      "|            order_id|order_item_id|          product_id|           seller_id|shipping_limit_datetime|price|freight_value|year|month|\n",
      "+--------------------+-------------+--------------------+--------------------+-----------------------+-----+-------------+----+-----+\n",
      "|00010242fe8c5a6d1...|            1|4244733e06e7ecb49...|48436dade18ac8b2b...|    2017-09-19 09:45:35| 58.9|        13.29|2017|    9|\n",
      "|00018f77f2f0320c5...|            1|e5f2d52b802189ee6...|dd7ddc04e1b6c2c61...|    2017-05-03 11:05:13|239.9|        19.93|2017|    5|\n",
      "+--------------------+-------------+--------------------+--------------------+-----------------------+-----+-------------+----+-----+\n",
      "\n",
      "+--------------------+-------------+--------------------+--------------------+-----------------------+-----+-------------+----+-----+\n",
      "|            order_id|order_item_id|          product_id|           seller_id|shipping_limit_datetime|price|freight_value|year|month|\n",
      "+--------------------+-------------+--------------------+--------------------+-----------------------+-----+-------------+----+-----+\n",
      "|000e63d38ae8c00bb...|            1|553e0e7590d3116a0...|1c129092bf23f28a5...|    2018-03-29 20:07:49| 47.9|         8.88|2018|    3|\n",
      "|00130c0eee84a3d90...|            1|89321f94e35fc6d79...|16090f2ca825584b5...|    2018-06-14 05:16:24| 27.9|         7.94|2018|    6|\n",
      "|001d8f0e34a38c37f...|            1|e67307ff0f15ade43...|f4aba7c0bca51484c...|    2017-05-18 17:35:11|18.99|         7.78|2017|    5|\n",
      "|001d8f0e34a38c37f...|            2|e67307ff0f15ade43...|f4aba7c0bca51484c...|    2017-05-18 17:35:11|18.99|         7.78|2017|    5|\n",
      "|002f98c0f7efd4263...|            2|880be32f4db1d9f6e...|fa40cc5b934574b62...|    2017-08-10 09:30:15| 44.9|         7.16|2017|    8|\n",
      "+--------------------+-------------+--------------------+--------------------+-----------------------+-----+-------------+----+-----+\n",
      "only showing top 5 rows\n",
      "\n",
      "+--------------------+-------------+--------------------+--------------------+-----------------------+-----+-------------+----+-----+\n",
      "|            order_id|order_item_id|          product_id|           seller_id|shipping_limit_datetime|price|freight_value|year|month|\n",
      "+--------------------+-------------+--------------------+--------------------+-----------------------+-----+-------------+----+-----+\n",
      "|000e63d38ae8c00bb...|            1|553e0e7590d3116a0...|1c129092bf23f28a5...|    2018-03-29 20:07:49| 47.9|         8.88|2018|    3|\n",
      "|00130c0eee84a3d90...|            1|89321f94e35fc6d79...|16090f2ca825584b5...|    2018-06-14 05:16:24| 27.9|         7.94|2018|    6|\n",
      "|001d8f0e34a38c37f...|            1|e67307ff0f15ade43...|f4aba7c0bca51484c...|    2017-05-18 17:35:11|18.99|         7.78|2017|    5|\n",
      "|001d8f0e34a38c37f...|            2|e67307ff0f15ade43...|f4aba7c0bca51484c...|    2017-05-18 17:35:11|18.99|         7.78|2017|    5|\n",
      "|002f98c0f7efd4263...|            2|880be32f4db1d9f6e...|fa40cc5b934574b62...|    2017-08-10 09:30:15| 44.9|         7.16|2017|    8|\n",
      "+--------------------+-------------+--------------------+--------------------+-----------------------+-----+-------------+----+-----+\n",
      "only showing top 5 rows\n",
      "\n"
     ]
    }
   ],
   "source": [
    "# Filter condition\n",
    "\n",
    "df3.filter( col('order_id') == '00010242fe8c5a6d1ba2dd792cb16214' ).show(5)\n",
    "\n",
    "order_ids = ['00010242fe8c5a6d1ba2dd792cb16214','00018f77f2f0320c557190d7a144bdd3']\n",
    "\n",
    "df3.filter( col('order_id').isin(order_ids) ).show(5)\n",
    "\n",
    "df3.filter( (col('price') < 50) & (col(\"freight_value\")  < 10) ).show(5)\n",
    "\n",
    "# SQL Type Expression\n",
    "df3.filter(\"price < 50 and freight_value  < 10\").show(5)"
   ]
  },
  {
   "cell_type": "code",
   "execution_count": 14,
   "id": "cd75d19b-d574-475f-b9d5-1d70ff2b6edf",
   "metadata": {
    "tags": []
   },
   "outputs": [
    {
     "name": "stdout",
     "output_type": "stream",
     "text": [
      "+--------------------+-------------+--------------------+--------------------+-----------------------+-----+-------------+----+\n",
      "|            order_id|order_item_id|          product_id|           seller_id|shipping_limit_datetime|price|freight_value|year|\n",
      "+--------------------+-------------+--------------------+--------------------+-----------------------+-----+-------------+----+\n",
      "|00010242fe8c5a6d1...|            1|4244733e06e7ecb49...|48436dade18ac8b2b...|    2017-09-19 09:45:35| 58.9|        13.29|2017|\n",
      "|00018f77f2f0320c5...|            1|e5f2d52b802189ee6...|dd7ddc04e1b6c2c61...|    2017-05-03 11:05:13|239.9|        19.93|2017|\n",
      "|000229ec398224ef6...|            1|c777355d18b72b67a...|5b51032eddd242adc...|    2018-01-18 14:48:30|199.0|        17.87|2018|\n",
      "|00024acbcdf0a6daa...|            1|7634da152a4610f15...|9d7a1d34a50524090...|    2018-08-15 10:10:18|12.99|        12.79|2018|\n",
      "|00042b26cf59d7ce6...|            1|ac6c3623068f30de0...|df560393f3a51e745...|    2017-02-13 13:57:51|199.9|        18.14|2017|\n",
      "+--------------------+-------------+--------------------+--------------------+-----------------------+-----+-------------+----+\n",
      "only showing top 5 rows\n",
      "\n"
     ]
    }
   ],
   "source": [
    "# Example to drop a column\n",
    "\n",
    "df3.drop('month').show(5)"
   ]
  },
  {
   "cell_type": "code",
   "execution_count": 15,
   "id": "25995432-acb6-4798-b3fe-3854d400726c",
   "metadata": {
    "tags": []
   },
   "outputs": [
    {
     "name": "stderr",
     "output_type": "stream",
     "text": [
      "[Stage 25:>                                                         (0 + 4) / 4]"
     ]
    },
    {
     "name": "stdout",
     "output_type": "stream",
     "text": [
      "+--------------------+-------------+--------------------+--------------------+-----------------------+-----+-------------+----+-----+\n",
      "|            order_id|order_item_id|          product_id|           seller_id|shipping_limit_datetime|price|freight_value|year|month|\n",
      "+--------------------+-------------+--------------------+--------------------+-----------------------+-----+-------------+----+-----+\n",
      "|00018f77f2f0320c5...|            1|e5f2d52b802189ee6...|dd7ddc04e1b6c2c61...|    2017-05-03 11:05:13|239.9|        19.93|2017|    5|\n",
      "|00061f2a7bc09da83...|            1|d63c1011f49d98b97...|cc419e0650a3c5ba7...|    2018-03-29 22:28:09|59.99|         8.88|2018|    3|\n",
      "|0014ae671de39511f...|            1|23365beed316535b4...|92eb0f42c21942b65...|    2017-05-29 03:15:24| 16.5|         14.1|2017|    5|\n",
      "|0015ebb40fb17286b...|            1|50fd2b788dc166edd...|8b321bb669392f516...|    2018-01-18 09:11:24| 21.9|         15.1|2018|    1|\n",
      "|001ab0a7578dd66cd...|            2|0b0172eb0fd18479d...|5656537e588803a55...|    2018-01-04 02:33:42|24.89|        17.63|2018|    1|\n",
      "+--------------------+-------------+--------------------+--------------------+-----------------------+-----+-------------+----+-----+\n",
      "only showing top 5 rows\n",
      "\n"
     ]
    },
    {
     "name": "stderr",
     "output_type": "stream",
     "text": [
      "                                                                                "
     ]
    }
   ],
   "source": [
    "#drop duplicates row based on multiple columns\n",
    "\n",
    "df3.dropDuplicates(['order_id', 'order_item_id']).show(5)\n",
    "\n",
    "# order_id , order_item_id, c1, c2\n",
    "#   1      ,    2        , A , B\n",
    "#   1      ,    2        , A , B\n",
    "#   1      ,    2        , C , D\n",
    "#   1      ,    3        , E , F\n",
    "\n",
    "# order_id , order_item_id, c1, c2\n",
    "#   1      ,    2        , A , B\n",
    "#   1      ,    3        , E , F"
   ]
  },
  {
   "cell_type": "code",
   "execution_count": 16,
   "id": "1e344297-7293-4072-8141-78dc0afdb111",
   "metadata": {},
   "outputs": [
    {
     "name": "stderr",
     "output_type": "stream",
     "text": [
      "[Stage 28:==============>                                           (1 + 3) / 4]"
     ]
    },
    {
     "name": "stdout",
     "output_type": "stream",
     "text": [
      "+--------------------+-------------+--------------------+--------------------+-----------------------+------+-------------+----+-----+\n",
      "|            order_id|order_item_id|          product_id|           seller_id|shipping_limit_datetime| price|freight_value|year|month|\n",
      "+--------------------+-------------+--------------------+--------------------+-----------------------+------+-------------+----+-----+\n",
      "|0008288aa423d2a3f...|            1|368c6c730842d7801...|1f50f920176fa81da...|    2018-02-21 02:55:52|  49.9|        13.37|2018|    2|\n",
      "|004fb5e6f90a178dc...|            1|601a360bd2a916ece...|7a67c85e85bb2ce85...|    2017-06-15 10:02:38|129.99|        13.93|2017|    6|\n",
      "|00dc6ad47477b3b62...|            1|4fe644d766c7566db...|c31eff8334d6b3047...|    2018-03-01 20:20:25|110.99|        33.23|2018|    3|\n",
      "|02119fc90b970a6b0...|            1|99aa268744e2967e0...|52562a9f449c3dc3d...|    2017-07-05 02:45:31|  84.9|        27.44|2017|    7|\n",
      "|0232512713ff84ce6...|            1|41b43381a92451746...|7c67e1448b00f6e96...|    2018-04-10 03:55:46|149.99|        21.09|2018|    4|\n",
      "+--------------------+-------------+--------------------+--------------------+-----------------------+------+-------------+----+-----+\n",
      "only showing top 5 rows\n",
      "\n"
     ]
    },
    {
     "name": "stderr",
     "output_type": "stream",
     "text": [
      "                                                                                "
     ]
    }
   ],
   "source": [
    "# get distinct rows\n",
    "\n",
    "df3.dropDuplicates().show(5)"
   ]
  },
  {
   "cell_type": "code",
   "execution_count": 17,
   "id": "bd2e7739-7ff7-4423-bfcf-938b5fa11823",
   "metadata": {
    "tags": []
   },
   "outputs": [
    {
     "name": "stdout",
     "output_type": "stream",
     "text": [
      "+--------------------+-------------+--------------------+--------------------+-----------------------+------+-------------+----+-----+\n",
      "|            order_id|order_item_id|          product_id|           seller_id|shipping_limit_datetime| price|freight_value|year|month|\n",
      "+--------------------+-------------+--------------------+--------------------+-----------------------+------+-------------+----+-----+\n",
      "|0812eb902a67711a1...|            1|489ae2aa008f02150...|e3b4998c7a498169d...|    2017-02-16 20:37:36|6735.0|       194.31|2017|    2|\n",
      "|fefacc66af859508b...|            1|69c590f7ffc7bf8db...|80ceebb4ee9b31afb...|    2018-08-02 04:05:13|6729.0|       193.21|2018|    8|\n",
      "|f5136e38d1a14a4db...|            1|1bdf5e6731585cf01...|ee27a8f15b1dded4d...|    2017-06-15 02:45:17|6499.0|       227.66|2017|    6|\n",
      "|a96610ab360d42a2e...|            1|a6492cc69376c469a...|59417c56835dd8e2e...|    2017-04-18 13:25:18|4799.0|       151.34|2017|    4|\n",
      "|199af31afc78c699f...|            1|c3ed642d592594bb6...|59417c56835dd8e2e...|    2017-05-09 15:50:15|4690.0|        74.34|2017|    5|\n",
      "+--------------------+-------------+--------------------+--------------------+-----------------------+------+-------------+----+-----+\n",
      "only showing top 5 rows\n",
      "\n",
      "+--------------------+-------------+--------------------+--------------------+-----------------------+-----+-------------+----+-----+\n",
      "|            order_id|order_item_id|          product_id|           seller_id|shipping_limit_datetime|price|freight_value|year|month|\n",
      "+--------------------+-------------+--------------------+--------------------+-----------------------+-----+-------------+----+-----+\n",
      "|c5bdd8ef3c0ec4202...|            2|8a3254bee785a526d...|96804ea39d96eb908...|    2018-05-07 02:55:22| 0.85|         22.3|2018|    5|\n",
      "|3ee6513ae7ea23bdf...|            1|8a3254bee785a526d...|96804ea39d96eb908...|    2018-05-04 03:55:26| 0.85|        18.23|2018|    5|\n",
      "|6e864b3f0ec710311...|            1|8a3254bee785a526d...|96804ea39d96eb908...|    2018-05-02 20:30:34| 0.85|        18.23|2018|    5|\n",
      "|8272b63d03f5f79c5...|            9|05b515fdc76e888aa...|2709af9587499e95e...|    2017-07-21 18:25:23|  1.2|         7.89|2017|    7|\n",
      "|8272b63d03f5f79c5...|            5|05b515fdc76e888aa...|2709af9587499e95e...|    2017-07-21 18:25:23|  1.2|         7.89|2017|    7|\n",
      "+--------------------+-------------+--------------------+--------------------+-----------------------+-----+-------------+----+-----+\n",
      "only showing top 5 rows\n",
      "\n"
     ]
    }
   ],
   "source": [
    "# arrange data using order by\n",
    "\n",
    "df3.orderBy( col('price').desc() ).show(5)\n",
    "\n",
    "df3.orderBy( col('price').asc(), col('freight_value').desc() ).show(5)"
   ]
  },
  {
   "cell_type": "code",
   "execution_count": 18,
   "id": "3fe7477d-2db4-4163-9726-35cfe3b227c7",
   "metadata": {
    "tags": []
   },
   "outputs": [
    {
     "name": "stdout",
     "output_type": "stream",
     "text": [
      "+----+-----------+------------------+-----------------+---------+---------+\n",
      "|year|total_count|         avg_price|        sum_price|min_price|max_price|\n",
      "+----+-----------+------------------+-----------------+---------+---------+\n",
      "|2018|      62511|120.08515685238126|7506643.239999205|     0.85|   6729.0|\n",
      "|2020|          4|             86.49|           345.96|    69.99|    99.99|\n",
      "|2016|        370|134.55654054054037|49785.91999999993|      6.0|   1399.0|\n",
      "|2017|      49765|121.26732804178806|6034868.579999583|      1.2|   6735.0|\n",
      "+----+-----------+------------------+-----------------+---------+---------+\n",
      "\n",
      "+----+-----+-----------+------------------+------------------+---------+---------+\n",
      "|year|month|total_count|         avg_price|         sum_price|min_price|max_price|\n",
      "+----+-----+-----------+------------------+------------------+---------+---------+\n",
      "|2016|    9|          4|           48.6175|            194.47|    44.99|     59.5|\n",
      "|2016|   10|        365|135.83712328767106| 49580.54999999994|      6.0|   1399.0|\n",
      "|2016|   12|          1|              10.9|              10.9|     10.9|     10.9|\n",
      "|2017|    1|        681|117.65747430249642| 80124.74000000006|      2.9|   1999.0|\n",
      "|2017|    2|       1866|131.82315648445902| 245982.0100000005|      3.9|   6735.0|\n",
      "|2017|    3|       2751|124.77011995637947| 343242.5999999999|      4.9|   3999.9|\n",
      "|2017|    4|       2364|130.35038917089682|308148.32000000007|      4.9|   4799.0|\n",
      "|2017|    5|       4150|121.84468915662596|505655.45999999775|      3.5|   4690.0|\n",
      "|2017|    6|       3801|123.38885819521138| 469001.0499999985|     3.49|   6499.0|\n",
      "|2017|    7|       4116|113.04229834791019|465282.09999999835|      1.2|  2999.89|\n",
      "|2017|    8|       5042|111.08554938516372| 560093.3399999954|      3.9|   2649.0|\n",
      "|2017|    9|       4724|130.61941574936384| 617046.1199999948|     2.29|   1798.0|\n",
      "|2017|   10|       5189|126.81060512622734| 658020.2299999937|      4.5|  2999.99|\n",
      "|2017|   11|       7355|120.10219306593969| 883351.6299999864|     3.85|   2990.0|\n",
      "|2017|   12|       7726|116.35011390111136| 898920.9799999864|      4.4|   3124.0|\n",
      "|2018|    1|       7492|112.82423651895176| 845279.1799999867|     4.78|   2110.0|\n",
      "|2018|    2|       7375|111.08187796609992| 819228.8499999869|     2.99|   3690.0|\n",
      "|2018|    3|       8759|117.65359515926319|1030527.8399999862|      4.5|   3700.0|\n",
      "|2018|    4|       7637|125.53747544847297| 958729.6999999881|     4.99|  4099.99|\n",
      "|2018|    5|       8765|123.71460924129939| 1084358.549999989|     0.85|   3930.0|\n",
      "+----+-----+-----------+------------------+------------------+---------+---------+\n",
      "only showing top 20 rows\n",
      "\n"
     ]
    }
   ],
   "source": [
    "# Group By Operation\n",
    "\n",
    "# on single column\n",
    "df3.groupBy('year').agg( count('*').alias('total_count'),\n",
    "                         avg('price').alias('avg_price'),\n",
    "                         sum('price').alias('sum_price'),\n",
    "                         min('price').alias('min_price'),\n",
    "                         max('price').alias('max_price')\n",
    "                       ).show(5)\n",
    "\n",
    "# on multiple column\n",
    "df3.groupBy('year', 'month').agg( count('*').alias('total_count'),\n",
    "                                 avg('price').alias('avg_price'),\n",
    "                                 sum('price').alias('sum_price'),\n",
    "                                 min('price').alias('min_price'),\n",
    "                                 max('price').alias('max_price')\n",
    "                               ).orderBy( col('year').asc(), col('month').asc() ).show(20)"
   ]
  },
  {
   "cell_type": "code",
   "execution_count": 19,
   "id": "f181ae87-38ec-4df6-b325-1846b72fa072",
   "metadata": {
    "tags": []
   },
   "outputs": [
    {
     "name": "stdout",
     "output_type": "stream",
     "text": [
      "+--------------------+-------------+--------------------+--------------------+-----------------------+-----+-------------+----+-----+--------------+\n",
      "|            order_id|order_item_id|          product_id|           seller_id|shipping_limit_datetime|price|freight_value|year|month|price_category|\n",
      "+--------------------+-------------+--------------------+--------------------+-----------------------+-----+-------------+----+-----+--------------+\n",
      "|00010242fe8c5a6d1...|            1|4244733e06e7ecb49...|48436dade18ac8b2b...|    2017-09-19 09:45:35| 58.9|        13.29|2017|    9|        Medium|\n",
      "|00018f77f2f0320c5...|            1|e5f2d52b802189ee6...|dd7ddc04e1b6c2c61...|    2017-05-03 11:05:13|239.9|        19.93|2017|    5|          High|\n",
      "|000229ec398224ef6...|            1|c777355d18b72b67a...|5b51032eddd242adc...|    2018-01-18 14:48:30|199.0|        17.87|2018|    1|          High|\n",
      "|00024acbcdf0a6daa...|            1|7634da152a4610f15...|9d7a1d34a50524090...|    2018-08-15 10:10:18|12.99|        12.79|2018|    8|           Low|\n",
      "|00042b26cf59d7ce6...|            1|ac6c3623068f30de0...|df560393f3a51e745...|    2017-02-13 13:57:51|199.9|        18.14|2017|    2|          High|\n",
      "+--------------------+-------------+--------------------+--------------------+-----------------------+-----+-------------+----+-----+--------------+\n",
      "only showing top 5 rows\n",
      "\n"
     ]
    }
   ],
   "source": [
    "# Case-When statement\n",
    "\n",
    "df3.withColumn(\"price_category\", when( col('price') >= 100 , \"High\" )\n",
    "                                .when( (col('price') < 100) & (col('price') >= 50) , \"Medium\" )\n",
    "                                .otherwise(\"Low\")).show(5)\n",
    "                               "
   ]
  },
  {
   "cell_type": "code",
   "execution_count": 20,
   "id": "168f5aa2-906e-4a35-b114-331b5972797c",
   "metadata": {
    "tags": []
   },
   "outputs": [
    {
     "name": "stdout",
     "output_type": "stream",
     "text": [
      "+--------------------+-------------+--------------------+--------------------+-----------------------+-----+-------------+----+-----+----------+\n",
      "|            order_id|order_item_id|          product_id|           seller_id|shipping_limit_datetime|price|freight_value|year|month|dense_rank|\n",
      "+--------------------+-------------+--------------------+--------------------+-----------------------+-----+-------------+----+-----+----------+\n",
      "|3ee6513ae7ea23bdf...|            1|8a3254bee785a526d...|96804ea39d96eb908...|    2018-05-04 03:55:26| 0.85|        18.23|2018|    5|         1|\n",
      "|6e864b3f0ec710311...|            1|8a3254bee785a526d...|96804ea39d96eb908...|    2018-05-02 20:30:34| 0.85|        18.23|2018|    5|         1|\n",
      "|c5bdd8ef3c0ec4202...|            2|8a3254bee785a526d...|96804ea39d96eb908...|    2018-05-07 02:55:22| 0.85|         22.3|2018|    5|         1|\n",
      "|f1d5c2e6867fa93ce...|            1|46fce52cef5caa7cc...|2d2322d8421188677...|    2018-08-28 21:30:15|  2.2|         7.39|2018|    8|         2|\n",
      "|de03f4f4bb610147a...|            1|2e8316b31db34314f...|9d7a1d34a50524090...|    2018-02-08 00:55:32| 2.99|        11.85|2018|    2|         3|\n",
      "+--------------------+-------------+--------------------+--------------------+-----------------------+-----+-------------+----+-----+----------+\n",
      "only showing top 5 rows\n",
      "\n",
      "+----+-----+-----------------------+------------------+\n",
      "|year|price|shipping_limit_datetime|       running_sum|\n",
      "+----+-----+-----------------------+------------------+\n",
      "|2016| 59.5|    2016-09-19 00:15:34|              59.5|\n",
      "|2016|44.99|    2016-09-19 23:11:33|194.47000000000003|\n",
      "|2016|44.99|    2016-09-19 23:11:33|194.47000000000003|\n",
      "|2016|44.99|    2016-09-19 23:11:33|194.47000000000003|\n",
      "|2016|29.99|    2016-10-08 10:34:01|224.46000000000004|\n",
      "+----+-----+-----------------------+------------------+\n",
      "only showing top 5 rows\n",
      "\n"
     ]
    }
   ],
   "source": [
    "# Window functions\n",
    "\n",
    "from pyspark.sql.window import Window\n",
    "\n",
    "windowSpec1 = Window.partitionBy('year').orderBy( col('price').asc())\n",
    "\n",
    "df3.withColumn(\"dense_rank\" , dense_rank().over(windowSpec1) ).show(5)\n",
    "\n",
    "windowSpec2 = Window.partitionBy('year').orderBy(col('shipping_limit_datetime').asc())\n",
    "\n",
    "df3.withColumn('running_sum', sum('price').over(windowSpec2)).select('year','price','shipping_limit_datetime','running_sum').show(5)"
   ]
  },
  {
   "cell_type": "code",
   "execution_count": 22,
   "id": "b1a88e65-9be1-480b-88f0-209180df8ca5",
   "metadata": {
    "tags": []
   },
   "outputs": [
    {
     "name": "stdout",
     "output_type": "stream",
     "text": [
      "root\n",
      " |-- seller_id: string (nullable = true)\n",
      " |-- seller_zip_code_prefix: integer (nullable = true)\n",
      " |-- seller_city: string (nullable = true)\n",
      " |-- seller_state: string (nullable = true)\n",
      "\n",
      "+--------------------+----------------------+-----------------+------------+\n",
      "|           seller_id|seller_zip_code_prefix|      seller_city|seller_state|\n",
      "+--------------------+----------------------+-----------------+------------+\n",
      "|3442f8959a84dea7e...|                 13023|         campinas|          SP|\n",
      "|d1b65fc7debc3361e...|                 13844|       mogi guacu|          SP|\n",
      "|ce3ad9de960102d06...|                 20031|   rio de janeiro|          RJ|\n",
      "|c0f3eea2e14555b6f...|                  4195|        sao paulo|          SP|\n",
      "|51a04a8a6bdcb23de...|                 12914|braganca paulista|          SP|\n",
      "+--------------------+----------------------+-----------------+------------+\n",
      "only showing top 5 rows\n",
      "\n"
     ]
    }
   ],
   "source": [
    "path = '/home/iceberg/data/sellers_dataset.csv'\n",
    "\n",
    "sdf = spark.read.format('csv').option('header', 'true').option('inferSchema', 'true').load(hdfs_path)\n",
    "\n",
    "sdf.printSchema()\n",
    "sdf.show(5)"
   ]
  },
  {
   "cell_type": "code",
   "execution_count": 23,
   "id": "a664fefb-6c55-4868-8466-6addca3366b7",
   "metadata": {
    "tags": []
   },
   "outputs": [
    {
     "name": "stdout",
     "output_type": "stream",
     "text": [
      "root\n",
      " |-- order_id: string (nullable = true)\n",
      " |-- order_item_id: integer (nullable = true)\n",
      " |-- product_id: string (nullable = true)\n",
      " |-- seller_id: string (nullable = true)\n",
      " |-- shipping_limit_datetime: timestamp (nullable = true)\n",
      " |-- price: double (nullable = true)\n",
      " |-- freight_value: double (nullable = true)\n",
      " |-- year: integer (nullable = true)\n",
      " |-- month: integer (nullable = true)\n",
      " |-- seller_zip_code_prefix: integer (nullable = true)\n",
      " |-- seller_city: string (nullable = true)\n",
      " |-- seller_state: string (nullable = true)\n",
      "\n",
      "+--------------------+-------------+--------------------+--------------------+-----------------------+-----+-------------+----+-----+----------------------+-------------+------------+\n",
      "|            order_id|order_item_id|          product_id|           seller_id|shipping_limit_datetime|price|freight_value|year|month|seller_zip_code_prefix|  seller_city|seller_state|\n",
      "+--------------------+-------------+--------------------+--------------------+-----------------------+-----+-------------+----+-----+----------------------+-------------+------------+\n",
      "|00010242fe8c5a6d1...|            1|4244733e06e7ecb49...|48436dade18ac8b2b...|    2017-09-19 09:45:35| 58.9|        13.29|2017|    9|                 27277|volta redonda|          SP|\n",
      "|00018f77f2f0320c5...|            1|e5f2d52b802189ee6...|dd7ddc04e1b6c2c61...|    2017-05-03 11:05:13|239.9|        19.93|2017|    5|                  3471|    sao paulo|          SP|\n",
      "|000229ec398224ef6...|            1|c777355d18b72b67a...|5b51032eddd242adc...|    2018-01-18 14:48:30|199.0|        17.87|2018|    1|                 37564|borda da mata|          MG|\n",
      "|00024acbcdf0a6daa...|            1|7634da152a4610f15...|9d7a1d34a50524090...|    2018-08-15 10:10:18|12.99|        12.79|2018|    8|                 14403|       franca|          SP|\n",
      "|00042b26cf59d7ce6...|            1|ac6c3623068f30de0...|df560393f3a51e745...|    2017-02-13 13:57:51|199.9|        18.14|2017|    2|                 87900|       loanda|          PR|\n",
      "+--------------------+-------------+--------------------+--------------------+-----------------------+-----+-------------+----+-----+----------------------+-------------+------------+\n",
      "only showing top 5 rows\n",
      "\n"
     ]
    }
   ],
   "source": [
    "# Join transformation\n",
    "\n",
    "result1 = df3.join(broadcast(sdf), df3.seller_id == sdf.seller_id  , 'inner').drop(sdf.seller_id)\n",
    "\n",
    "\n",
    "result1.printSchema()\n",
    "result1.show(5)\n"
   ]
  },
  {
   "cell_type": "code",
   "execution_count": 24,
   "id": "5f15c46f-7649-4281-936b-10b90a5cb9e1",
   "metadata": {
    "tags": []
   },
   "outputs": [
    {
     "name": "stdout",
     "output_type": "stream",
     "text": [
      "root\n",
      " |-- order_id: string (nullable = true)\n",
      " |-- order_item_id: integer (nullable = true)\n",
      " |-- product_id: string (nullable = true)\n",
      " |-- seller_id: string (nullable = true)\n",
      " |-- shipping_limit_datetime: timestamp (nullable = true)\n",
      " |-- price: double (nullable = true)\n",
      " |-- freight_value: double (nullable = true)\n",
      " |-- year: integer (nullable = true)\n",
      " |-- month: integer (nullable = true)\n",
      " |-- seller_zip_code_prefix: integer (nullable = true)\n",
      " |-- seller_city: string (nullable = true)\n",
      " |-- seller_state: string (nullable = true)\n",
      "\n",
      "+--------------------+-------------+--------------------+--------------------+-----------------------+-----+-------------+----+-----+----------------------+-------------+------------+\n",
      "|            order_id|order_item_id|          product_id|           seller_id|shipping_limit_datetime|price|freight_value|year|month|seller_zip_code_prefix|  seller_city|seller_state|\n",
      "+--------------------+-------------+--------------------+--------------------+-----------------------+-----+-------------+----+-----+----------------------+-------------+------------+\n",
      "|00010242fe8c5a6d1...|            1|4244733e06e7ecb49...|48436dade18ac8b2b...|    2017-09-19 09:45:35| 58.9|        13.29|2017|    9|                 27277|volta redonda|          SP|\n",
      "|00018f77f2f0320c5...|            1|e5f2d52b802189ee6...|dd7ddc04e1b6c2c61...|    2017-05-03 11:05:13|239.9|        19.93|2017|    5|                  3471|    sao paulo|          SP|\n",
      "|000229ec398224ef6...|            1|c777355d18b72b67a...|5b51032eddd242adc...|    2018-01-18 14:48:30|199.0|        17.87|2018|    1|                 37564|borda da mata|          MG|\n",
      "|00024acbcdf0a6daa...|            1|7634da152a4610f15...|9d7a1d34a50524090...|    2018-08-15 10:10:18|12.99|        12.79|2018|    8|                 14403|       franca|          SP|\n",
      "|00042b26cf59d7ce6...|            1|ac6c3623068f30de0...|df560393f3a51e745...|    2017-02-13 13:57:51|199.9|        18.14|2017|    2|                 87900|       loanda|          PR|\n",
      "+--------------------+-------------+--------------------+--------------------+-----------------------+-----+-------------+----+-----+----------------------+-------------+------------+\n",
      "only showing top 5 rows\n",
      "\n"
     ]
    }
   ],
   "source": [
    "# Perform join with alias names of dataframes\n",
    "\n",
    "result2 = df3.alias('oid').join(sdf.alias('sid'), col('oid.seller_id') == col('sid.seller_id') , 'inner').drop(col('sid.seller_id'))\n",
    "\n",
    "\n",
    "result2.printSchema()\n",
    "result2.show(5)"
   ]
  },
  {
   "cell_type": "code",
   "execution_count": 26,
   "id": "dc5948a9-7051-42bf-a748-9f5bec15c5fc",
   "metadata": {
    "tags": []
   },
   "outputs": [
    {
     "name": "stdout",
     "output_type": "stream",
     "text": [
      "root\n",
      " |-- order_id: string (nullable = true)\n",
      " |-- order_item_id: integer (nullable = true)\n",
      " |-- product_id: string (nullable = true)\n",
      " |-- seller_id: string (nullable = true)\n",
      " |-- shipping_limit_datetime: timestamp (nullable = true)\n",
      " |-- price: double (nullable = true)\n",
      " |-- freight_value: double (nullable = true)\n",
      " |-- year: integer (nullable = true)\n",
      " |-- month: integer (nullable = true)\n",
      " |-- seller_id: string (nullable = true)\n",
      " |-- seller_zip_code_prefix: integer (nullable = true)\n",
      " |-- seller_city: string (nullable = true)\n",
      " |-- seller_state: string (nullable = true)\n",
      "\n",
      "+--------------------+-------------+--------------------+--------------------+-----------------------+-----+-------------+----+-----+--------------------+----------------------+-------------+------------+\n",
      "|            order_id|order_item_id|          product_id|           seller_id|shipping_limit_datetime|price|freight_value|year|month|           seller_id|seller_zip_code_prefix|  seller_city|seller_state|\n",
      "+--------------------+-------------+--------------------+--------------------+-----------------------+-----+-------------+----+-----+--------------------+----------------------+-------------+------------+\n",
      "|00010242fe8c5a6d1...|            1|4244733e06e7ecb49...|48436dade18ac8b2b...|    2017-09-19 09:45:35| 58.9|        13.29|2017|    9|48436dade18ac8b2b...|                 27277|volta redonda|          SP|\n",
      "|00018f77f2f0320c5...|            1|e5f2d52b802189ee6...|dd7ddc04e1b6c2c61...|    2017-05-03 11:05:13|239.9|        19.93|2017|    5|dd7ddc04e1b6c2c61...|                  3471|    sao paulo|          SP|\n",
      "|000229ec398224ef6...|            1|c777355d18b72b67a...|5b51032eddd242adc...|    2018-01-18 14:48:30|199.0|        17.87|2018|    1|5b51032eddd242adc...|                 37564|borda da mata|          MG|\n",
      "|00024acbcdf0a6daa...|            1|7634da152a4610f15...|9d7a1d34a50524090...|    2018-08-15 10:10:18|12.99|        12.79|2018|    8|9d7a1d34a50524090...|                 14403|       franca|          SP|\n",
      "|00042b26cf59d7ce6...|            1|ac6c3623068f30de0...|df560393f3a51e745...|    2017-02-13 13:57:51|199.9|        18.14|2017|    2|df560393f3a51e745...|                 87900|       loanda|          PR|\n",
      "+--------------------+-------------+--------------------+--------------------+-----------------------+-----+-------------+----+-----+--------------------+----------------------+-------------+------------+\n",
      "only showing top 5 rows\n",
      "\n"
     ]
    }
   ],
   "source": [
    "# work with spark SQL\n",
    "\n",
    "df3.createOrReplaceTempView(\"ORDER_ITEM\")\n",
    "sdf.createOrReplaceTempView(\"SELLERS\")\n",
    "\n",
    "joinedDF = spark.sql(\"select * from ORDER_ITEM oid INNER JOIN SELLERS sid ON oid.seller_id == sid.seller_id\")\n",
    "\n",
    "joinedDF.printSchema()\n",
    "\n",
    "joinedDF.show(5)\n",
    "\n"
   ]
  },
  {
   "cell_type": "code",
   "execution_count": 27,
   "id": "ad6a7a34-815f-45f3-bcd4-49ab03ab9401",
   "metadata": {},
   "outputs": [
    {
     "name": "stdout",
     "output_type": "stream",
     "text": [
      "root\n",
      " |-- order_id: string (nullable = true)\n",
      " |-- order_item_id: integer (nullable = true)\n",
      " |-- product_id: string (nullable = true)\n",
      " |-- seller_id: string (nullable = true)\n",
      " |-- shipping_limit_datetime: timestamp (nullable = true)\n",
      " |-- price: double (nullable = true)\n",
      " |-- freight_value: double (nullable = true)\n",
      " |-- year: integer (nullable = true)\n",
      " |-- month: integer (nullable = true)\n",
      " |-- seller_zip_code_prefix: integer (nullable = true)\n",
      " |-- seller_city: string (nullable = true)\n",
      " |-- seller_state: string (nullable = true)\n",
      "\n"
     ]
    }
   ],
   "source": [
    "result1.printSchema()"
   ]
  },
  {
   "cell_type": "code",
   "execution_count": 32,
   "id": "90643eb7-21ad-4f36-9fd4-11896f521460",
   "metadata": {},
   "outputs": [
    {
     "name": "stdout",
     "output_type": "stream",
     "text": [
      "+--------------------------------+------------+\n",
      "|order_id                        |seller_state|\n",
      "+--------------------------------+------------+\n",
      "|00010242fe8c5a6d1ba2dd792cb16214|SP          |\n",
      "|00018f77f2f0320c557190d7a144bdd3|SP          |\n",
      "|000229ec398224ef6ca0657da4fc703e|MG          |\n",
      "|00024acbcdf0a6daa1e931b038114c75|SP          |\n",
      "|00042b26cf59d7ce69dfabb4e55b4fd9|PR          |\n",
      "+--------------------------------+------------+\n",
      "\n"
     ]
    }
   ],
   "source": [
    "result1.select(\"order_id\",\"seller_state\").limit(5).show(truncate=False)"
   ]
  },
  {
   "cell_type": "code",
   "execution_count": null,
   "id": "16461d03-1fca-4706-9f84-af1f61e32c1d",
   "metadata": {},
   "outputs": [],
   "source": [
    "# write to local dir\n",
    "result1.write.parquet(\"/home/iceberg/result/\")"
   ]
  },
  {
   "cell_type": "code",
   "execution_count": 1,
   "id": "6553696a-be2d-4851-9e1d-b8678695358a",
   "metadata": {},
   "outputs": [
    {
     "ename": "NameError",
     "evalue": "name 'result1' is not defined",
     "output_type": "error",
     "traceback": [
      "\u001b[0;31m---------------------------------------------------------------------------\u001b[0m",
      "\u001b[0;31mNameError\u001b[0m                                 Traceback (most recent call last)",
      "Cell \u001b[0;32mIn[1], line 1\u001b[0m\n\u001b[0;32m----> 1\u001b[0m \u001b[43mresult1\u001b[49m\u001b[38;5;241m.\u001b[39mwriteTo(\u001b[38;5;124m\"\u001b[39m\u001b[38;5;124mwarehouse.db.test\u001b[39m\u001b[38;5;124m\"\u001b[39m) \\\n\u001b[1;32m      2\u001b[0m   \u001b[38;5;241m.\u001b[39mpartitionedBy(\u001b[38;5;124m\"\u001b[39m\u001b[38;5;124mseller_state\u001b[39m\u001b[38;5;124m\"\u001b[39m) \\\n\u001b[1;32m      3\u001b[0m   \u001b[38;5;241m.\u001b[39mcreateOrReplace() \n",
      "\u001b[0;31mNameError\u001b[0m: name 'result1' is not defined"
     ]
    }
   ],
   "source": [
    "# Write as iceberg table\n",
    "result1.writeTo(\"warehouse.db.test\") \\\n",
    "  .partitionedBy(\"seller_state\") \\\n",
    "  .createOrReplace() "
   ]
  },
  {
   "cell_type": "code",
   "execution_count": 34,
   "id": "d5d61150-d693-41e6-b49a-8e886786fa15",
   "metadata": {},
   "outputs": [
    {
     "name": "stderr",
     "output_type": "stream",
     "text": [
      "                                                                                "
     ]
    },
    {
     "data": {
      "text/plain": [
       "DataFrame[]"
      ]
     },
     "execution_count": 34,
     "metadata": {},
     "output_type": "execute_result"
    }
   ],
   "source": [
    "# update a record \n",
    "spark.sql(\"\"\"\n",
    "    UPDATE warehouse.db.test\n",
    "    SET price = 1000\n",
    "    WHERE order_id = '00010242fe8c5a6d1ba2dd792cb16214'\n",
    "      AND seller_state = 'SP'\n",
    "\"\"\")\n"
   ]
  },
  {
   "cell_type": "code",
   "execution_count": 2,
   "id": "d01198c5-85c2-4799-8895-5be3ee140af9",
   "metadata": {},
   "outputs": [],
   "source": [
    "# insert a record\n",
    "\n",
    "result1.limit(1).writeTo(\"warehouse.db.test\").append()\n"
   ]
  },
  {
   "cell_type": "code",
   "execution_count": null,
   "id": "3eb5fda3-c9c6-4213-b218-748500ac6f3a",
   "metadata": {},
   "outputs": [],
   "source": [
    "# delete records\n",
    "spark.sql(\"\"\"\n",
    "DELETE FROM warehouse.db.test \n",
    "WHERE seller_state = 'SP'\n",
    "\"\"\")"
   ]
  },
  {
   "cell_type": "code",
   "execution_count": null,
   "id": "77e077d5-7952-45df-b03b-7f7697a9d940",
   "metadata": {},
   "outputs": [],
   "source": [
    "# merge (upsert)\n",
    "\n",
    "update_df = result1.limit(1).withColumn(\"order_id\",lit(\"vsdga34234sdfaes2312\"))\n",
    "\n",
    "update_df.createOrReplaceTempView(\"updates\")\n",
    "\n",
    "spark.sql(\"\"\"\n",
    "MERGE INTO warehouse.db.test AS t\n",
    "USING updates AS u\n",
    "ON t.order_id = u.order_id \n",
    "WHEN MATCHED THEN UPDATE SET *\n",
    "WHEN NOT MATCHED THEN INSERT *\n",
    "\"\"\")"
   ]
  },
  {
   "cell_type": "code",
   "execution_count": null,
   "id": "6da3e23e-c9c0-440c-b44f-0787e8062b64",
   "metadata": {},
   "outputs": [],
   "source": [
    "# schema evolution\n",
    "\n",
    "schema_change_df = result1.limit(1).withColumn(\"order_status\",lit(\"delivered\"))\n",
    "\n",
    "schema_change_df.writeTo(\"warehouse.db.test\").append()\n"
   ]
  },
  {
   "cell_type": "raw",
   "id": "cd166609-ee6c-413e-89cf-53d85def44d5",
   "metadata": {},
   "source": [
    "spark.sql(\"\"\"\n",
    "SELECT * from warehouse.db.test where order_status = 'delivered' order by order_status desc limit 10\"\"\")"
   ]
  },
  {
   "cell_type": "code",
   "execution_count": null,
   "id": "3dd9a841-0dba-4786-97a9-10e95a8c221e",
   "metadata": {},
   "outputs": [],
   "source": [
    "# get snapshot history\n",
    "snapshots = spark.sql(\"SELECT * FROM warehouse.db.test.snapshots\")\n",
    "snapshots.show()"
   ]
  },
  {
   "cell_type": "code",
   "execution_count": null,
   "id": "7be731e6-97c5-4689-94d0-f7d3f42a98c1",
   "metadata": {},
   "outputs": [],
   "source": [
    "# Time Travel\n",
    "\n",
    "df = spark.read.option(\"snapshot-id\", \"<snapshot_id>\").table(\"warehouse.db.test\")"
   ]
  }
 ],
 "metadata": {
  "kernelspec": {
   "display_name": "Python 3 (ipykernel)",
   "language": "python",
   "name": "python3"
  },
  "language_info": {
   "codemirror_mode": {
    "name": "ipython",
    "version": 3
   },
   "file_extension": ".py",
   "mimetype": "text/x-python",
   "name": "python",
   "nbconvert_exporter": "python",
   "pygments_lexer": "ipython3",
   "version": "3.10.16"
  }
 },
 "nbformat": 4,
 "nbformat_minor": 5
}
